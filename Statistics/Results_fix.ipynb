{
 "cells": [
  {
   "cell_type": "code",
   "execution_count": null,
   "metadata": {},
   "outputs": [],
   "source": [
    "import pymysql\n",
    "pymysql.install_as_MySQLdb()\n",
    "\n",
    "from sql import *\n",
    "from stats import *\n",
    "import pandas as pd\n",
    "from lifelines import *"
   ]
  },
  {
   "cell_type": "code",
   "execution_count": null,
   "metadata": {},
   "outputs": [],
   "source": [
    "from matplotlib import pyplot\n",
    "%matplotlib notebook"
   ]
  },
  {
   "cell_type": "code",
   "execution_count": null,
   "metadata": {
    "scrolled": false
   },
   "outputs": [],
   "source": [
    "fragdata = split_data(download_frag_data())\n",
    "mainzones = ['Water Villas (LG)', 'Channel (KH)', 'Blue Holes (LG)', 'Parrot Reef (LG)', 'Water Villas (KH)', 'House Reef (KH)', \n",
    "         'Blu (LG)', 'Blu Deep (LG)', 'Dive Site (LG)', 'Coral Trail (LG)', 'Anchor Point (LG)', 'Al Barakat (LG)']\n",
    "controlzones = ['Blu (LG)', 'Blu Deep (LG)', 'Dive Site (LG)', 'Coral Trail (LG)', 'Anchor Point (LG)', 'Al Barakat (LG)']\n",
    "disruptedzones = ['Water Villas (LG)', 'Channel (KH)', 'Blue Holes (LG)', 'Parrot Reef (LG)', 'Water Villas (KH)', 'House Reef (KH)']\n",
    "\n",
    "main = fragdata['all'][fragdata['all']['Zone'].isin(mainzones)]\n",
    "control = fragdata['all'][fragdata['all']['Zone'].isin(controlzones)]\n",
    "disrupted = fragdata['all'][fragdata['all']['Zone'].isin(disruptedzones)]"
   ]
  },
  {
   "cell_type": "markdown",
   "metadata": {
    "heading_collapsed": true
   },
   "source": [
    "# Mortality"
   ]
  },
  {
   "cell_type": "code",
   "execution_count": null,
   "metadata": {
    "hidden": true
   },
   "outputs": [],
   "source": [
    "survived, dead = get_mortality()"
   ]
  },
  {
   "cell_type": "code",
   "execution_count": null,
   "metadata": {
    "hidden": true
   },
   "outputs": [],
   "source": [
    "roll_window = 120\n",
    "fig, axs = pyplot.subplots(2, sharex = True, figsize = [13,8])\n",
    "mortality = {}\n",
    "lines = {}\n",
    "colors = [pyplot.cm.tab10(x) for x in np.linspace(0,1,10)] + [pyplot.cm.Accent(x) for x in np.linspace(0,1,8)]\n",
    "axs[0].set_prop_cycle('color', colors)\n",
    "\n",
    "for z in mainzones:\n",
    "    zone_survived = survived[survived['Zone'] == z]\n",
    "    zone_dead = dead[dead['Zone'] == z]\n",
    "    mortality[z] = zone_dead['Median'].value_counts() / (zone_dead['Median'].value_counts() + zone_survived['Median'].value_counts())\n",
    "    mortality[z] = mortality[z].sort_index().rolling(str(roll_window) + 'd').sum().rename(z) / roll_window * 100\n",
    "    lines[z], = axs[0].plot_date(mortality[z].index, mortality[z], '-')\n",
    "\n",
    "for z in mainzones[4:]:\n",
    "    zone_survived = survived[survived['Zone'] == z]\n",
    "    zone_dead = dead[dead['Zone'] == z]\n",
    "    mortality[z] = zone_dead['Median'].value_counts() / (zone_dead['Median'].value_counts() + zone_survived['Median'].value_counts())\n",
    "    mortality[z] = mortality[z].sort_index().rolling(str(roll_window) + 'd').sum().rename(z) / roll_window * 100\n",
    "    axs[1].plot_date(mortality[z].index, mortality[z], '-', color = lines[z].get_color(), label = '_' + z)\n",
    "\n",
    "colors = pd.read_csv('kh_temp_alert.csv', index_col = 0, parse_dates = True)\n",
    "d = colors.index\n",
    "lim = axs[1].get_ylim()[1]\n",
    "axs[1].fill_between(d, 0, lim, where=colors['level'] == 0, facecolor='yellow', alpha=0, label = 'NOAA level 0: No Stress')\n",
    "axs[1].fill_between(d, 0, lim, where=colors['level'] == 1, facecolor='yellow', alpha=0.3, label = 'NOAA level 1: Watch')\n",
    "axs[1].fill_between(d, 0, lim, where=colors['level'] == 2, facecolor='orange', alpha=0.3, label = 'NOAA level 2: Warning')\n",
    "axs[1].fill_between(d, 0, lim, where=colors['level'] == 3, facecolor='red', alpha=0.3)\n",
    "axs[1].fill_between(d, 0, lim, where=colors['level'] == 4, facecolor='darkred', alpha=0.3)\n",
    "\n",
    "\n",
    "axs[0].legend(loc='lower left', ncol=6, bbox_to_anchor=(0., 1.03, 1., .102), mode=\"expand\", borderaxespad=0.)\n",
    "axs[1].legend(loc='lower left', ncol=6, bbox_to_anchor=(0., 1.03, 1., .102), mode=\"expand\", borderaxespad=0.)\n",
    "axs[0].set(ylabel='Mortality rate (%)')\n",
    "axs[1].set(ylabel='Mortality rate (%)')\n",
    "axs[0].spines['top'].set_visible(False)\n",
    "axs[0].spines['right'].set_visible(False)\n",
    "axs[1].spines['top'].set_visible(False)\n",
    "axs[1].spines['right'].set_visible(False)\n",
    "axs[0].text(-0.05, -0.0, 'a', transform=axs[0].transAxes, size=12, weight='bold')\n",
    "axs[1].text(-0.05, -0.0, 'b', transform=axs[1].transAxes, size=12, weight='bold')"
   ]
  },
  {
   "cell_type": "markdown",
   "metadata": {
    "heading_collapsed": true
   },
   "source": [
    "# Global survival results"
   ]
  },
  {
   "cell_type": "code",
   "execution_count": null,
   "metadata": {
    "hidden": true,
    "scrolled": false
   },
   "outputs": [],
   "source": [
    "fig, ax = pyplot.subplots(figsize=[12, 8])\n",
    "\n",
    "df0 = fragdata['all']\n",
    "df1 = control[control['Type'] == 'Acropora']\n",
    "df2 = control[control['Type'] == 'Pocillopora']\n",
    "df3 = disrupted[disrupted['Type'] == 'Acropora']\n",
    "df4 = disrupted[disrupted['Type'] == 'Pocillopora']\n",
    "\n",
    "kmf0 = KaplanMeierFitter()\n",
    "kmf0.fit(df0['T'] / 30.437, event_observed=df0['E'], label = 'All')\n",
    "kmf1 = KaplanMeierFitter()\n",
    "kmf1.fit(df1['T'] / 30.437, event_observed=df1['E'], label = 'Control Acropora')\n",
    "kmf2 = KaplanMeierFitter()\n",
    "kmf2.fit(df2['T'] / 30.437, event_observed=df2['E'], label = 'Control Pocillopora')\n",
    "kmf3 = KaplanMeierFitter()\n",
    "kmf3.fit(df3['T'] / 30.437, event_observed=df3['E'], label = 'Disrupted Acropora')\n",
    "kmf4 = KaplanMeierFitter()\n",
    "kmf4.fit(df4['T'] / 30.437, event_observed=df4['E'], label = 'Disrupted Pocillopora')\n",
    "\n",
    "kmf0.plot_survival_function(ax=ax, color = 'black', ci_alpha = 0.1)\n",
    "kmf1.plot_survival_function(ax=ax, color = 'cornflowerblue', ci_alpha = 0.1)\n",
    "kmf3.plot_survival_function(ax=ax, color = 'navy', ci_alpha = 0.1)\n",
    "kmf2.plot_survival_function(ax=ax, color = 'lightcoral', ci_alpha = 0.1)\n",
    "kmf4.plot_survival_function(ax=ax, color = 'firebrick', ci_alpha = 0.1)\n",
    "\n",
    "from lifelines.plotting import add_at_risk_counts\n",
    "add_at_risk_counts(kmf0, ax=ax)\n",
    "\n",
    "ax.set_ylim(bottom=0)\n",
    "ax.set_xlabel('Timeline (months)')\n",
    "ax.set_ylabel('Survival Rate')\n",
    "ax.spines['top'].set_visible(False)\n",
    "ax.spines['right'].set_visible(False)\n",
    "ax.legend(prop={'size': 12})\n"
   ]
  },
  {
   "cell_type": "markdown",
   "metadata": {},
   "source": [
    "# Death / bleaching stats"
   ]
  },
  {
   "cell_type": "code",
   "execution_count": null,
   "metadata": {},
   "outputs": [],
   "source": [
    "request = \"\"\"SELECT Fragments.Type AS Sp, Status.Type, COUNT(Status.FragmentId) FROM (\n",
    "        SELECT FragmentId, MIN(Date) AS death FROM Status WHERE Type IN ('Dead Coral', 'Fallen') GROUP BY FragmentId\n",
    "        ) A INNER JOIN Status ON A.FragmentId = Status.FragmentId AND A.death = Status.Date\n",
    "        INNER JOIN Fragments ON Fragments.FragmentId = A.FragmentID\n",
    "        INNER JOIN FSFrames ON Fragments.Tag = FSFrames.Tag\n",
    "        WHERE Fragments.Type IN ('Acropora', 'Pocillopora')\n",
    "        GROUP BY Sp, Type\"\"\"\n",
    "\n",
    "db = OpenMydb()\n",
    "cur = db.cursor()\n",
    "cur.execute(request)\n",
    "for c in cur.fetchall():\n",
    "    print('{}, {}: {}'.format(c[0], c[1], c[2]))"
   ]
  },
  {
   "cell_type": "code",
   "execution_count": null,
   "metadata": {},
   "outputs": [],
   "source": [
    "bleached = get_bleached_data()\n",
    "initialstress = bleached[bleached['BleachDelay'] <= 15]\n",
    "print(initialstress['Outcome'].value_counts()/initialstress.shape[0])\n",
    "\n",
    "laterstress = bleached[bleached['BleachDelay'] > 15]\n",
    "print(laterstress['Zone'].value_counts()/laterstress.shape[0])"
   ]
  },
  {
   "cell_type": "markdown",
   "metadata": {
    "heading_collapsed": true
   },
   "source": [
    "# Cox Regression (control)"
   ]
  },
  {
   "cell_type": "code",
   "execution_count": null,
   "metadata": {
    "hidden": true
   },
   "outputs": [],
   "source": [
    "df = control.copy()\n",
    "df['Size'] = 0.3296*df['Size']\n",
    "df['tdelta'] = (df['Transplanted'] - df['StartDate']).dt.days <= 90\n",
    "df = df[df['tdelta']]\n",
    "\n",
    "X = df[['T', 'E', 'Size', 'Depth', 'Type']]\n",
    "X['Bottom'] = 1*(df['Elev'] == 'A')\n",
    "X['Sandy'] =1*df['Sandy']\n",
    "\n",
    "cph = CoxPHFitter()\n",
    "cph.fit(X, duration_col='T', event_col='E', formula=\"C(Type)*np.log(Depth)+C(Type)*Size+Sandy:Bottom\", robust=True)\n",
    "\n",
    "cph.print_summary()"
   ]
  },
  {
   "cell_type": "code",
   "execution_count": null,
   "metadata": {
    "hidden": true,
    "scrolled": true
   },
   "outputs": [],
   "source": [
    "p_, d_, pd_, s_, ps_, sb_ = cph.params_\n",
    "a_ = -p_\n",
    "d = np.arange(1, 18, 0.1)\n",
    "s1, s3 = 3.3, 4.7\n",
    "fig, ax = pyplot.subplots(figsize = [12,9])\n",
    "\n",
    "ax.plot(d, pd.Series(1, index = d), '--', label = 'Baseline', color = 'gray')\n",
    "ax.plot(d, d**(d_)*np.exp(s1*(s_))*np.exp(sb_*0), label = 'Acropora (Small)', color = 'lightsteelblue')\n",
    "ax.plot(d, d**(d_)*np.exp(s3*(s_))*np.exp(sb_*0), label = 'Acropora (Large)', color = 'slateblue')\n",
    "ax.plot(d, d**(d_)*np.exp(s3*(s_))*np.exp(sb_*1), label = 'Acropora (Large, Sandy + Bottom bar)', color = 'darkblue')\n",
    "ax.plot(d, np.exp(p_)*d**(d_+pd_)*np.exp(s1*(s_+ps_))*np.exp(sb_*0), label = 'Pocillopora (Small)', color = 'lightcoral')\n",
    "ax.plot(d, np.exp(p_)*d**(d_+pd_)*np.exp(s3*(s_+ps_))*np.exp(sb_*0), label = 'Pocillopora (Large)', color = 'firebrick')\n",
    "ax.plot(d, np.exp(p_)*d**(d_+pd_)*np.exp(s3*(s_+ps_))*np.exp(sb_*1), label = 'Pocillopora (Large, Sandy + Bottom bar)', color = 'maroon')\n",
    "ax.legend()\n",
    "ax.set_ylim(0, 2)\n",
    "ax.set(xlabel='Depth (m)', ylabel='Hazard Ratio')\n",
    "ax.spines['top'].set_visible(False)\n",
    "ax.spines['right'].set_visible(False)"
   ]
  },
  {
   "cell_type": "markdown",
   "metadata": {
    "heading_collapsed": true
   },
   "source": [
    "# Cox Regression (disrupted)"
   ]
  },
  {
   "cell_type": "code",
   "execution_count": null,
   "metadata": {
    "hidden": true
   },
   "outputs": [],
   "source": [
    "long_df = get_disrupted_frag_data('heatwave')"
   ]
  },
  {
   "cell_type": "code",
   "execution_count": null,
   "metadata": {
    "hidden": true,
    "scrolled": true
   },
   "outputs": [],
   "source": [
    "X = long_df[['FragmentId', 'Type', 'Size']].copy()\n",
    "X['Start'], X['Stop']  = long_df['Start'].astype(int), long_df['Stop'].astype(int)\n",
    "X['E'], X['Disrupted'] = long_df['E'].astype(int), long_df['Disrupted'].astype(int)\n",
    "\n",
    "from lifelines import CoxTimeVaryingFitter\n",
    "\n",
    "ctv = CoxTimeVaryingFitter(penalizer=0.0001)\n",
    "ctv.fit(X, id_col=\"FragmentId\", event_col=\"E\", start_col=\"Start\", stop_col=\"Stop\", formula='C(Type)*Disrupted+C(Type):Size')\n",
    "ctv.print_summary()"
   ]
  },
  {
   "cell_type": "code",
   "execution_count": null,
   "metadata": {
    "hidden": true,
    "scrolled": true
   },
   "outputs": [],
   "source": [
    "p_, dis_, pdis_, as_, ps_ = ctv.params_\n",
    "s = np.arange(2, 8, 0.01)\n",
    "s1, s3 = 3.3, 4.7\n",
    "\n",
    "fig, ax = pyplot.subplots(figsize = [12,9])\n",
    "\n",
    "ax.plot(s, pd.Series(1, index = s), '--', label = 'Baseline', color = 'gray')\n",
    "ax.plot(s, np.exp(dis_*0) * np.exp(s*as_), label = 'Acropora', color = 'lightsteelblue')\n",
    "ax.plot(s, np.exp(dis_*1) * np.exp(s*as_), label = 'Acropora (Disrupted)', color = 'darkblue')\n",
    "ax.plot(s, np.exp(p_) * np.exp((pdis_+dis_)*0) * np.exp(s*ps_), label = 'Pocillopora', color = 'lightcoral')\n",
    "ax.plot(s, np.exp(p_) * np.exp((pdis_+dis_)*1) * np.exp(s*ps_), label = 'Pocillopora (Disrupted)', color = 'maroon')\n",
    "ax.axvline(x=3.332, linestyle='--', label='Median initial fragment size', color = 'darkgreen', alpha = 0.5)\n",
    "ax.fill_between(s, 0, 10, where=(s > 2.858) & (s <= 3.945), facecolor='green', alpha=0.2, label = 'Interquartile range')\n",
    "ax.legend(prop={'size': 12})\n",
    "ax.set_ylim(0, 10)\n",
    "ax.set(xlabel='Initial fragment size (cm)', ylabel='Hazard Ratio')\n",
    "ax.spines['top'].set_visible(False)\n",
    "ax.spines['right'].set_visible(False)\n"
   ]
  },
  {
   "cell_type": "markdown",
   "metadata": {
    "heading_collapsed": true
   },
   "source": [
    "# Growth rates"
   ]
  },
  {
   "cell_type": "code",
   "execution_count": null,
   "metadata": {
    "hidden": true
   },
   "outputs": [],
   "source": [
    "livedf = get_growth_data()"
   ]
  },
  {
   "cell_type": "code",
   "execution_count": null,
   "metadata": {
    "hidden": true,
    "scrolled": false
   },
   "outputs": [],
   "source": [
    "import seaborn as sns\n",
    "from matplotlib.ticker import MultipleLocator\n",
    "\n",
    "fig, ax = pyplot.subplots(figsize=[12,10])\n",
    "\n",
    "sns.set_style(\"whitegrid\")\n",
    "sns.violinplot(ax=ax, x=\"avgrowth\", y=\"Zone\", hue='Type', data=livedf, split = True, palette=\"Set1\", inner=\"quartile\",\n",
    "               saturation = 0.6, bw = .1, scale = 'count')\n",
    "ax.set_xlabel(\"Growth rate (cm/year)\")\n",
    "ax.xaxis.set_major_locator(MultipleLocator(1))\n",
    "ax.set_ylabel(None)"
   ]
  },
  {
   "cell_type": "markdown",
   "metadata": {
    "heading_collapsed": true
   },
   "source": [
    "# Total volume"
   ]
  },
  {
   "cell_type": "code",
   "execution_count": null,
   "metadata": {
    "hidden": true
   },
   "outputs": [],
   "source": [
    "live, dead, initial, fallen = get_volume_series()\n",
    "acrodata = pd.DataFrame({'_Live Coral': live['Acropora'], '_Initial transplants': initial['Acropora'],\n",
    "                     '_Dead Coral': -dead['Acropora'], '_Fallen Coral': -fallen['Acropora']})\n",
    "pocdata = pd.DataFrame({'_Live Coral': live['Pocillopora'], '_Initial transplants': initial['Pocillopora'],\n",
    "                     '_Dead Coral': -dead['Pocillopora'], '_Fallen Coral': -fallen['Pocillopora']})\n",
    "\n",
    "acrodata.to_csv('acro_vol_data.csv')\n",
    "pocdata.to_csv('poc_vol_data.csv')"
   ]
  },
  {
   "cell_type": "code",
   "execution_count": null,
   "metadata": {
    "hidden": true,
    "scrolled": false
   },
   "outputs": [],
   "source": [
    "acrodata = pd.read_csv('acro_vol_data.csv', index_col = 0, parse_dates = True)\n",
    "pocdata = pd.read_csv('poc_vol_data.csv', index_col = 0, parse_dates = True)\n",
    "pocdata['Date'] = pocdata.index\n",
    "acrodata['Date'] = acrodata.index\n",
    "d = pocdata['Date'].values\n",
    "\n",
    "fig, axs = pyplot.subplots(2, sharex = True, figsize = [13, 8])\n",
    "\n",
    "axs[0].plot_date(acrodata['Date'], acrodata['_Initial transplants'], '-')\n",
    "axs[0].plot_date(acrodata['Date'], (acrodata['_Dead Coral'] - acrodata['_Fallen Coral']).rename('_Dead Coral on frame'), '-')\n",
    "axs[0].plot_date(acrodata['Date'], acrodata['_Live Coral'], '-')\n",
    "axs[0].plot_date(acrodata['Date'], acrodata['_Dead Coral'], '-')\n",
    "axs[0].fill_between(d, acrodata['_Live Coral'], acrodata['_Initial transplants'], facecolor='green', alpha=0.3, interpolate=True, label = 'Live Coral - Organic growth')\n",
    "axs[0].fill_between(d, 0, acrodata['_Initial transplants'], facecolor='blue', alpha=0.3, interpolate=True, label = 'Live Coral - Initial transplants')\n",
    "axs[0].fill_between(d, acrodata['_Dead Coral'] - acrodata['_Fallen Coral'], 0, facecolor='orange', alpha=0.3, interpolate=True, label = 'Dead Coral - On frame')\n",
    "axs[0].fill_between(d, acrodata['_Dead Coral'], acrodata['_Dead Coral'] - acrodata['_Fallen Coral'], facecolor='red', alpha=0.3, interpolate=True, label = 'Dead Coral - Fallen')\n",
    "axs[0].set(ylabel='Volume of Acropora (liters)')\n",
    "axs[0].spines['top'].set_visible(False)\n",
    "axs[0].spines['right'].set_visible(False)\n",
    "axs[0].legend(loc=2)\n",
    "\n",
    "axs[1].plot_date(pocdata['Date'], pocdata['_Initial transplants'], '-')\n",
    "axs[1].plot_date(pocdata['Date'], (pocdata['_Dead Coral'] - pocdata['_Fallen Coral']).rename('_Dead Coral on frame'), '-')\n",
    "axs[1].plot_date(pocdata['Date'], pocdata['_Live Coral'], '-')\n",
    "axs[1].plot_date(pocdata['Date'], pocdata['_Dead Coral'], '-')\n",
    "axs[1].fill_between(d, pocdata['_Live Coral'], pocdata['_Initial transplants'], facecolor='green', alpha=0.3, interpolate=True, label = 'Live Coral - Organic growth')\n",
    "axs[1].fill_between(d, 0, pocdata['_Initial transplants'], facecolor='blue', alpha=0.3, interpolate=True, label = 'Live Coral - Initial transplants')\n",
    "axs[1].fill_between(d, pocdata['_Dead Coral'] - pocdata['_Fallen Coral'], 0, facecolor='orange', alpha=0.3, interpolate=True, label = 'Dead Coral - On frame')\n",
    "axs[1].fill_between(d, pocdata['_Dead Coral'], pocdata['_Dead Coral'] - pocdata['_Fallen Coral'], facecolor='red', alpha=0.3, interpolate=True, label = 'Dead Coral - Fallen')\n",
    "axs[1].set(ylabel='Volume of Pocillopora (liters)')\n",
    "axs[1].spines['top'].set_visible(False)\n",
    "axs[1].spines['right'].set_visible(False)\n",
    "axs[1].legend(loc=2)\n",
    "\n",
    "# Add trend lines:\n",
    "\n",
    "from sklearn.linear_model import LinearRegression\n",
    "\n",
    "df = pd.DataFrame()\n",
    "df['a'] = acrodata.loc[acrodata.index.year >= 2019]['_Live Coral']\n",
    "df['p'] = pocdata.loc[pocdata.index.year >= 2019]['_Live Coral']\n",
    "df['Date'] = df.index\n",
    "df['RelDate'] = (df['Date'].dt.date - date(year=2019, month=1, day=1)).dt.days\n",
    "\n",
    "x, y_a, y_p = np.array(df['RelDate']).reshape(-1, 1), np.array(df['a']).reshape(-1, 1), np.array(df['p']).reshape(-1, 1)\n",
    "model_a, model_p = LinearRegression().fit(x,y_a), LinearRegression().fit(x,y_p)\n",
    "df['a_trend'] = model_a.intercept_[0] + model_a.coef_[0][0]*df['RelDate']\n",
    "df['p_trend'] = model_p.intercept_[0] + model_p.coef_[0][0]*df['RelDate']\n",
    "axs[0].plot_date(df['Date'].dt.date, df['a_trend'], '--', color = 'darkgreen', alpha = 0.5)\n",
    "axs[1].plot_date(df['Date'].dt.date, df['p_trend'], '--', color = 'darkgreen', alpha = 0.5)\n",
    "axs[0].text(-0.08, -0.0, 'a', transform=axs[0].transAxes, size=12, weight='bold')\n",
    "axs[1].text(-0.08, -0.0, 'b', transform=axs[1].transAxes, size=12, weight='bold')\n",
    "\n",
    "print('Acropora slope: {:.0f} liters/year'.format(model_a.coef_[0][0]*365.25))\n",
    "print('Pocillopora slope: {:.0f} liters/year'.format(model_p.coef_[0][0]*365.25))"
   ]
  },
  {
   "cell_type": "markdown",
   "metadata": {
    "heading_collapsed": true
   },
   "source": [
    "# Methods - Residuals"
   ]
  },
  {
   "cell_type": "code",
   "execution_count": null,
   "metadata": {
    "hidden": true
   },
   "outputs": [],
   "source": [
    "from scipy.stats import norm\n",
    "\n",
    "df = pd.read_csv('SizeCheck.csv')\n",
    "df['Len_res'] = df['mL'] - 0.3296 * df['cL']\n",
    "df['Vol_res'] = df['mV'] - 0.1568*df['cV']"
   ]
  },
  {
   "cell_type": "code",
   "execution_count": null,
   "metadata": {
    "hidden": true
   },
   "outputs": [],
   "source": [
    "fig, axs = pyplot.subplots(1,2, figsize = [12, 5])\n",
    "\n",
    "df.hist('Len_res', ax = axs[0], density = True, bins = 50)\n",
    "x0 = np.arange(-3, 3, 0.001)\n",
    "y0 = norm.pdf(x0,df['Len_res'].mean(),df['Len_res'].std())\n",
    "axs[0].set(xlabel='Length residuals (centimeters)')\n",
    "axs[0].set(ylabel='Frequency')\n",
    "axs[0].set(title=None)\n",
    "axs[0].plot(x0, y0)\n",
    "axs[0].text(-0.05, -0.11, 'a', transform=axs[0].transAxes, size=12, weight='bold')\n",
    "\n",
    "df.hist('Vol_res', ax = axs[1], density = True, bins = 50)\n",
    "x1 = np.arange(-600, 600, 0.1)\n",
    "y1 = norm.pdf(x1,df['Vol_res'].mean(),df['Vol_res'].std())\n",
    "axs[1].set(xlabel='Volume residuals (cube centimeters)')\n",
    "axs[1].set(ylabel='Frequency')\n",
    "axs[1].set(title=None)\n",
    "axs[1].plot(x1, y1)\n",
    "axs[1].text(-0.05, -0.11, 'b', transform=axs[1].transAxes, size=12, weight='bold')"
   ]
  },
  {
   "cell_type": "code",
   "execution_count": null,
   "metadata": {},
   "outputs": [],
   "source": []
  },
  {
   "cell_type": "code",
   "execution_count": null,
   "metadata": {},
   "outputs": [],
   "source": []
  },
  {
   "cell_type": "code",
   "execution_count": null,
   "metadata": {},
   "outputs": [],
   "source": []
  },
  {
   "cell_type": "code",
   "execution_count": null,
   "metadata": {},
   "outputs": [],
   "source": []
  },
  {
   "cell_type": "code",
   "execution_count": null,
   "metadata": {},
   "outputs": [],
   "source": []
  },
  {
   "cell_type": "code",
   "execution_count": null,
   "metadata": {},
   "outputs": [],
   "source": []
  },
  {
   "cell_type": "code",
   "execution_count": null,
   "metadata": {},
   "outputs": [],
   "source": []
  }
 ],
 "metadata": {
  "kernelspec": {
   "display_name": "Python 3 (ipykernel)",
   "language": "python",
   "name": "python3"
  },
  "language_info": {
   "codemirror_mode": {
    "name": "ipython",
    "version": 3
   },
   "file_extension": ".py",
   "mimetype": "text/x-python",
   "name": "python",
   "nbconvert_exporter": "python",
   "pygments_lexer": "ipython3",
   "version": "3.9.12"
  }
 },
 "nbformat": 4,
 "nbformat_minor": 2
}
